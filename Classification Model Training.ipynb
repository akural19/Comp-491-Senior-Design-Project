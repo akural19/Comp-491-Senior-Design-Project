{
 "cells": [
  {
   "cell_type": "code",
   "execution_count": 2,
   "id": "5e152761-801c-47c0-9e9f-503054d4f944",
   "metadata": {},
   "outputs": [],
   "source": [
    "import numpy as np\n",
    "import pandas as pd\n",
    "import seaborn as sns\n",
    "import matplotlib.pyplot as plt\n",
    "from sklearn.model_selection import train_test_split\n",
    "from sklearn.ensemble import RandomForestClassifier\n",
    "from sklearn.metrics import accuracy_score, confusion_matrix\n",
    "import warnings\n",
    "import joblib"
   ]
  },
  {
   "cell_type": "code",
   "execution_count": 3,
   "id": "ee7a9e49-173c-40c5-b72f-10123a580143",
   "metadata": {},
   "outputs": [],
   "source": [
    "pd.set_option(\"display.max_rows\", None)\n",
    "pd.set_option(\"display.max_columns\", None)\n",
    "warnings.filterwarnings(\"ignore\")"
   ]
  },
  {
   "cell_type": "code",
   "execution_count": 4,
   "id": "0965a3bf-6b73-4feb-8f47-b1b5ff70f98c",
   "metadata": {},
   "outputs": [],
   "source": [
    "df1 = pd.read_excel(\"gesture_data.xlsx\")\n",
    "df2 = pd.read_excel(\"gesture_data space.xlsx\")\n",
    "df = pd.concat([df1, df2])\n",
    "df.reset_index(drop = True, inplace = True)"
   ]
  },
  {
   "cell_type": "code",
   "execution_count": 5,
   "id": "6c6c031d-08ed-4a94-8e4e-53feb2490135",
   "metadata": {
    "scrolled": true
   },
   "outputs": [
    {
     "data": {
      "text/plain": [
       "54438"
      ]
     },
     "execution_count": 5,
     "metadata": {},
     "output_type": "execute_result"
    }
   ],
   "source": [
    "len(df)"
   ]
  },
  {
   "cell_type": "code",
   "execution_count": 8,
   "id": "809d11be-5235-48f4-9c5f-e3c976146e2e",
   "metadata": {},
   "outputs": [
    {
     "data": {
      "text/plain": [
       "442"
      ]
     },
     "execution_count": 8,
     "metadata": {},
     "output_type": "execute_result"
    }
   ],
   "source": [
    "len(df.columns)"
   ]
  },
  {
   "cell_type": "code",
   "execution_count": 9,
   "id": "0e98062f-cb04-42e1-85c9-a1c41061ff6e",
   "metadata": {},
   "outputs": [],
   "source": [
    "df.dropna(axis = 0, inplace = True)"
   ]
  },
  {
   "cell_type": "code",
   "execution_count": 10,
   "id": "c4204128-1598-4fbc-8492-63f612e2bf64",
   "metadata": {},
   "outputs": [],
   "source": [
    "x = df.iloc[:, :441]\n",
    "y = df.iloc[:, 441:]"
   ]
  },
  {
   "cell_type": "code",
   "execution_count": 11,
   "id": "d9e0897e-7a1c-4238-97d0-0e9106194292",
   "metadata": {},
   "outputs": [],
   "source": [
    "x_train, x_test, y_train, y_test = train_test_split(x, y, test_size = 0.1, random_state = 42)"
   ]
  },
  {
   "cell_type": "code",
   "execution_count": null,
   "id": "f391b22c-463c-43f6-8202-8df12e80f632",
   "metadata": {},
   "outputs": [],
   "source": [
    "classifier = RandomForestClassifier(n_estimators=100, random_state=42)\n",
    "classifier.fit(x_train, y_train)"
   ]
  },
  {
   "cell_type": "code",
   "execution_count": null,
   "id": "454474e3-08d8-46f8-b149-815e0c4f8db1",
   "metadata": {},
   "outputs": [],
   "source": [
    "y_hat = classifier.predict(x_test)"
   ]
  },
  {
   "cell_type": "code",
   "execution_count": null,
   "id": "263bcd02-b571-4228-b123-f710df5769c1",
   "metadata": {},
   "outputs": [],
   "source": [
    "accuracy = accuracy_score(y_test, y_hat)\n",
    "print(f\"Accuracy: {accuracy:.2f}\")"
   ]
  },
  {
   "cell_type": "code",
   "execution_count": null,
   "id": "b686b7b8-9c25-44bf-9085-e7743ce5b5a1",
   "metadata": {},
   "outputs": [],
   "source": [
    "cm = confusion_matrix(y_test, y_hat)\n",
    "\n",
    "plt.figure(figsize = (15, 15))\n",
    "sns.heatmap(cm, annot = True, fmt = \"d\", cmap= \"Blues\", xticklabels = df[\"Label\"].unique(), yticklabels = df[\"Label\"].unique())\n",
    "plt.xlabel(\"Predicted\")\n",
    "plt.ylabel(\"Actual\")\n",
    "plt.title(\"Confusion Matrix\")\n",
    "plt.show()"
   ]
  },
  {
   "cell_type": "code",
   "execution_count": null,
   "id": "9edb01e2-71aa-4591-b018-d2d2234869e8",
   "metadata": {},
   "outputs": [],
   "source": [
    "joblib.dump(classifier, 'gesture recognition model.pkl')"
   ]
  },
  {
   "cell_type": "code",
   "execution_count": null,
   "id": "ae10f580-0fd4-450b-b528-5bdb73deb30d",
   "metadata": {
    "scrolled": true
   },
   "outputs": [],
   "source": [
    "y.value_counts().reset_index().sort_values(\"Label\", ascending = True).reset_index(drop = True)"
   ]
  },
  {
   "cell_type": "code",
   "execution_count": null,
   "id": "1afe6d34-b4d0-400d-929a-0b4871324aed",
   "metadata": {},
   "outputs": [],
   "source": [
    "y[\"Label\"].nunique()"
   ]
  }
 ],
 "metadata": {
  "kernelspec": {
   "display_name": "Python 3 (ipykernel)",
   "language": "python",
   "name": "python3"
  },
  "language_info": {
   "codemirror_mode": {
    "name": "ipython",
    "version": 3
   },
   "file_extension": ".py",
   "mimetype": "text/x-python",
   "name": "python",
   "nbconvert_exporter": "python",
   "pygments_lexer": "ipython3",
   "version": "3.12.7"
  }
 },
 "nbformat": 4,
 "nbformat_minor": 5
}
